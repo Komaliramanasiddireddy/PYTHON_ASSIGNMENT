{
 "cells": [
  {
   "cell_type": "code",
   "execution_count": 1,
   "id": "9d2e0045-b7b0-475c-ac4a-a1d8fadf9ee6",
   "metadata": {},
   "outputs": [
    {
     "name": "stdin",
     "output_type": "stream",
     "text": [
      "Enter a number: 10\n",
      "Enter a number: 3\n"
     ]
    },
    {
     "name": "stdout",
     "output_type": "stream",
     "text": [
      "\n",
      "Addition:13\n",
      "Substraction:7\n",
      "Multiplication:30\n",
      "Division:3.3333333333333335\n",
      "Modulus:1\n",
      "Exponent:1000\n",
      "Floor Division:3\n"
     ]
    }
   ],
   "source": [
    "user = int(input(\"Enter a number:\"))\n",
    "user1 = int(input(\"Enter a number:\"))\n",
    "print()\n",
    "add = user + user1\n",
    "sub = user - user1\n",
    "mul = user * user1\n",
    "div = user / user1\n",
    "mod = user % user1\n",
    "expo = user ** user1\n",
    "fd = user // user1\n",
    "\n",
    "print(f\"Addition:{add}\\nSubstraction:{sub}\\nMultiplication:{mul}\\nDivision:{div}\\nModulus:{mod}\\nExponent:{expo}\\nFloor Division:{fd}\")"
   ]
  },
  {
   "cell_type": "code",
   "execution_count": 3,
   "id": "32781dff-9d7d-4fb6-94d4-d78c0d096669",
   "metadata": {},
   "outputs": [
    {
     "name": "stdin",
     "output_type": "stream",
     "text": [
      "Enter a number: 7\n",
      "Enter a number: 8\n"
     ]
    },
    {
     "name": "stdout",
     "output_type": "stream",
     "text": [
      "Second number is greater\n",
      "Both are not equal\n",
      "First number less than equal to second number\n"
     ]
    }
   ],
   "source": [
    "f_num = int(input(\"Enter a number:\"))\n",
    "s_num = int(input(\"Enter a number:\"))\n",
    "\n",
    "if f_num > s_num:\n",
    "    print(\"First number is greter\")\n",
    "else:\n",
    "    print(\"Second number is greater\")\n",
    "\n",
    "if f_num == s_num:\n",
    "    print(\"first number equal to second number\")\n",
    "else:\n",
    "    print(\"Both are not equal\")\n",
    "\n",
    "if f_num <= s_num:\n",
    "    print(\"First number less than equal to second number\")\n",
    "else:\n",
    "    print(\"First number is not equal to second number\")"
   ]
  },
  {
   "cell_type": "code",
   "execution_count": 5,
   "id": "f7e426df-2bf8-47a5-88de-eb67c303dc09",
   "metadata": {},
   "outputs": [
    {
     "name": "stdin",
     "output_type": "stream",
     "text": [
      "Enter a number: 77\n",
      "Enter a number: 88\n"
     ]
    },
    {
     "name": "stdout",
     "output_type": "stream",
     "text": [
      "\n",
      "And: True OR: True Not: False Not: False\n"
     ]
    }
   ],
   "source": [
    "first = bool(int(input(\"Enter a number:\")))\n",
    "sec = bool(int(input(\"Enter a number:\")))\n",
    "print()\n",
    "\n",
    "r1 = first and sec\n",
    "\n",
    "r2 = first or sec\n",
    "\n",
    "r3 =  not first\n",
    "r4 = not sec\n",
    "\n",
    "print(\"And:\",r1,\"OR:\",r2,\"Not:\",r3,\"Not:\",r4)"
   ]
  },
  {
   "cell_type": "code",
   "execution_count": 7,
   "id": "11b5461e-d34b-4dbf-8fe1-b11a5b7e99fb",
   "metadata": {},
   "outputs": [
    {
     "name": "stdin",
     "output_type": "stream",
     "text": [
      "Enter a txt: 5\n"
     ]
    },
    {
     "name": "stdout",
     "output_type": "stream",
     "text": [
      "1\n",
      "First charcter: 5\n",
      "Last charcter: 5\n",
      "Reverse: 5\n",
      "Uppercase and lowercase: 5 & 5\n"
     ]
    }
   ],
   "source": [
    "user = str(input(\"Enter a txt:\")) \n",
    "print(len(user))\n",
    "first_char = user[0]\n",
    "second_char = user[-1]\n",
    "print(\"First charcter:\",first_char)\n",
    "print(\"Last charcter:\",second_char)\n",
    "print(\"Reverse:\",user[::-1])\n",
    "upper_str = user.upper()\n",
    "lower_str = user.lower()\n",
    "print(\"Uppercase and lowercase:\",upper_str,\"&\",lower_str)"
   ]
  },
  {
   "cell_type": "code",
   "execution_count": 11,
   "id": "1fd557bf-fe5c-48fc-ae34-cbcb690429c7",
   "metadata": {},
   "outputs": [
    {
     "name": "stdin",
     "output_type": "stream",
     "text": [
      "Enter a name: koms\n",
      "Enter a age: 19\n"
     ]
    },
    {
     "name": "stdout",
     "output_type": "stream",
     "text": [
      "Hello koms You are 19 Years old\n"
     ]
    }
   ],
   "source": [
    "name = str(input(\"Enter a name:\"))\n",
    "age = int(input(\"Enter a age:\"))\n",
    "print(f\"Hello {name} You are {age} Years old\")"
   ]
  },
  {
   "cell_type": "code",
   "execution_count": 3,
   "id": "07f32431-f652-4f70-8fc0-f247697bc5e5",
   "metadata": {},
   "outputs": [
    {
     "name": "stdin",
     "output_type": "stream",
     "text": [
      "Pleasee enter a sentence:  I'M BAT MAN\n",
      "Please enter a word:  BAT\n"
     ]
    },
    {
     "name": "stdout",
     "output_type": "stream",
     "text": [
      "The word 'BAT' exists in the sentence at index 4.\n"
     ]
    }
   ],
   "source": [
    "a = input(\"Pleasee enter a sentence: \")\n",
    "b = input(\"Please enter a word: \")\n",
    "if b in a :\n",
    "    c = a.index(b)\n",
    "    print(f\"The word '{b}' exists in the sentence at index {c}.\")\n",
    "else:\n",
    "    print(f\"The word '{b}' does not exist in the sentence.\")\n",
    "    #Exercise 6: Substring Search\n",
    "#Write a Python program that:\n",
    "# 1. Asks for a sentence input from the user.\n",
    "# 2. Asks for a word to search in the sentence.\n",
    "# 3. Outputs whether the word exists in the sentence and, if it does, at which position (index)."
   ]
  },
  {
   "cell_type": "code",
   "execution_count": 5,
   "id": "d60b30c6-0eb1-4797-9e4e-96003808a32f",
   "metadata": {},
   "outputs": [
    {
     "name": "stdin",
     "output_type": "stream",
     "text": [
      "Enter a number  7\n",
      "Enter a number  7\n",
      "Enter a number  7\n",
      "Enter a number  7\n",
      "Enter a number  7\n"
     ]
    },
    {
     "name": "stdout",
     "output_type": "stream",
     "text": [
      "The list of numbers is:  [7, 7, 7, 7, 7]\n",
      "The sum of the list is : 35\n",
      "The largest number is : 7\n",
      "The smallest number is:  7\n"
     ]
    }
   ],
   "source": [
    "a = []\n",
    "for i in range (5):\n",
    "    b = int(input(\"Enter a number \"))\n",
    "    a.append(b) #means 'a add ons 'b\n",
    "c  = sum(a)\n",
    "d = max(a)\n",
    "e = min(a)\n",
    "print(\"The list of numbers is: \",a)\n",
    "print(\"The sum of the list is :\",c)\n",
    "print(\"The largest number is :\",d)\n",
    "print(\"The smallest number is: \",e)\n",
    "#Exercise 7: List Operations\n",
    "#Write a Python program that:\n",
    "#1. Creates a list of 5 numbers (input from the user).\n",
    "#2. Displays the sum of all the numbers in the list.\n",
    "#3. Finds the largest and smallest number in the list."
   ]
  },
  {
   "cell_type": "code",
   "execution_count": 19,
   "id": "5e664f35-55f3-4ab6-a2d2-9f8c50da807a",
   "metadata": {},
   "outputs": [
    {
     "name": "stdout",
     "output_type": "stream",
     "text": [
      "['Banana', 'Appele', 'Kiwi', 'Avocado', 'Grapes', 'Mango']\n"
     ]
    }
   ],
   "source": [
    "fruits = [\"Banana\",\"Appele\",\"Kiwi\",\"Avocado\",\"Grapes\"]\n",
    "fruits.insert(5,\"Mango\")\n",
    "print(fruits)"
   ]
  },
  {
   "cell_type": "code",
   "execution_count": 21,
   "id": "ea1adf38-c678-4c49-8555-edcf28512f98",
   "metadata": {},
   "outputs": [
    {
     "name": "stdout",
     "output_type": "stream",
     "text": [
      "Ascending_Order: [22, 33, 44, 55, 66]\n",
      "Descending_Order: [66, 55, 44, 33, 22]\n"
     ]
    }
   ],
   "source": [
    "# num = list(map(int(input().split())))\n",
    "num = [22,44,66,55,33]\n",
    "descending = sorted(num,reverse=True)\n",
    "ascending = sorted(num,reverse=False)\n",
    "\n",
    "print(\"Ascending_Order:\",ascending)\n",
    "print(\"Descending_Order:\",descending)"
   ]
  },
  {
   "cell_type": "code",
   "execution_count": 23,
   "id": "699acc8b-91ea-4041-accc-b6d0bd72acb5",
   "metadata": {},
   "outputs": [
    {
     "name": "stdout",
     "output_type": "stream",
     "text": [
      "First 5 elements: [1, 2, 3, 4, 5]\n",
      "last 5 elements: [6, 7, 8, 9, 10]\n",
      "Index 2 to index 7: [3, 4, 5, 6, 7, 8]\n"
     ]
    }
   ],
   "source": [
    "num = [1, 2, 3, 4, 5, 6, 7, 8, 9, 10]\n",
    "print(\"First 5 elements:\",num[:5])\n",
    "print(\"last 5 elements:\",num[-5::])\n",
    "print(\"Index 2 to index 7:\",num[2:8])"
   ]
  },
  {
   "cell_type": "code",
   "execution_count": 25,
   "id": "0c71494b-764f-4f12-8c82-6958372fbf86",
   "metadata": {},
   "outputs": [
    {
     "name": "stdout",
     "output_type": "stream",
     "text": [
      "['Bharath', 'Tarun', 'Rahul', 85, 89, 91]\n"
     ]
    }
   ],
   "source": [
    "student_names = [\"Bharath\",\"Tarun\",\"Rahul\"]\n",
    "student_marks = [85,89,91]\n",
    "add = student_names+student_marks\n",
    "print(add)"
   ]
  },
  {
   "cell_type": "code",
   "execution_count": null,
   "id": "659401a3-c752-47cf-beab-280fed54d657",
   "metadata": {},
   "outputs": [],
   "source": []
  }
 ],
 "metadata": {
  "kernelspec": {
   "display_name": "Python 3 (ipykernel)",
   "language": "python",
   "name": "python3"
  },
  "language_info": {
   "codemirror_mode": {
    "name": "ipython",
    "version": 3
   },
   "file_extension": ".py",
   "mimetype": "text/x-python",
   "name": "python",
   "nbconvert_exporter": "python",
   "pygments_lexer": "ipython3",
   "version": "3.12.4"
  }
 },
 "nbformat": 4,
 "nbformat_minor": 5
}
