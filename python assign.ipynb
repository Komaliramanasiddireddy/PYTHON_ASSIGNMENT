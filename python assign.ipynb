{
 "cells": [
  {
   "cell_type": "code",
   "execution_count": 7,
   "id": "9d2e0045-b7b0-475c-ac4a-a1d8fadf9ee6",
   "metadata": {},
   "outputs": [
    {
     "name": "stdin",
     "output_type": "stream",
     "text": [
      "Enter first number: 10\n",
      "Enter second number: 3\n"
     ]
    },
    {
     "name": "stdout",
     "output_type": "stream",
     "text": [
      "Addition: 13.0\n",
      "Subtraction: 7.0\n",
      "Multiplication: 30.0\n",
      "Division: 3.33\n",
      "Modulus: 1.0\n",
      "Exponentiation: 1000.0\n",
      "Floor Division: 3.0\n"
     ]
    }
   ],
   "source": [
    "#Get input from the user\n",
    "num1=float(input(\"Enter first number:\"))\n",
    "num2=float(input(\"Enter second number:\"))\n",
    "# Perform calculations \n",
    "addition = num1 + num2 \n",
    "subtraction = num1 - num2 \n",
    "multiplication = num1 * num2 \n",
    "division = num1 / num2 \n",
    "modulus = num1 % num2 \n",
    "exponentiation = num1 ** num2 \n",
    "floor_division = num1 // num2\n",
    "# Display results \n",
    "print(f\"Addition: {addition}\") \n",
    "print(f\"Subtraction: {subtraction}\") \n",
    "print(f\"Multiplication: {multiplication}\") \n",
    "print(f\"Division: {division:.2f}\")   \n",
    "print(f\"Modulus: {modulus}\") \n",
    "print(f\"Exponentiation: {exponentiation}\") \n",
    "print(f\"Floor Division: {floor_division}\")\n"
   ]
  },
  {
   "cell_type": "code",
   "execution_count": 9,
   "id": "32781dff-9d7d-4fb6-94d4-d78c0d096669",
   "metadata": {},
   "outputs": [
    {
     "name": "stdin",
     "output_type": "stream",
     "text": [
      "Enter first number:  23\n",
      "Enter second number:  34\n"
     ]
    },
    {
     "name": "stdout",
     "output_type": "stream",
     "text": [
      "Is the first number greater than the second? False\n",
      "Is the first number equal to the second? False\n",
      "Is the first number less than or equal to the second? True\n"
     ]
    }
   ],
   "source": [
    "# Comparison Operations \n",
    "# Get input from the user \n",
    "num1 = float(input(\"Enter first number: \")) \n",
    "num2 = float(input(\"Enter second number: \")) \n",
    "# Perform comparisons \n",
    "greater_than = num1 > num2 \n",
    "equal_to = num1 == num2 \n",
    "less_than_or_equal = num1 <= num2 \n",
    "# Display results \n",
    "print(f\"Is the first number greater than the second? {greater_than}\") \n",
    "print(f\"Is the first number equal to the second? {equal_to}\") \n",
    "print(f\"Is the first number less than or equal to the second? {less_than_or_equal}\")\n"
   ]
  },
  {
   "cell_type": "code",
   "execution_count": 13,
   "id": "f7e426df-2bf8-47a5-88de-eb67c303dc09",
   "metadata": {},
   "outputs": [
    {
     "name": "stdin",
     "output_type": "stream",
     "text": [
      "Enter first boolean value (True/False):  True\n",
      "Enter second boolean value (True/False):  False\n",
      "Enter third boolean value (True/False):  True\n"
     ]
    },
    {
     "name": "stdout",
     "output_type": "stream",
     "text": [
      "AND result: False\n",
      "OR result: True\n",
      "NOT first boolean: False\n",
      "NOT second boolean: True\n",
      "NOT third boolean: False\n"
     ]
    }
   ],
   "source": [
    "# Logical Operations \n",
    "# Get input from the user \n",
    "a = input(\"Enter first boolean value (True/False): \") == 'True' \n",
    "b = input(\"Enter second boolean value (True/False): \") == 'True' \n",
    "c = input(\"Enter third boolean value (True/False): \") == 'True' \n",
    "# Combine boolean values using logical operators \n",
    "and_result = a and b and c \n",
    "or_result = a or b or c \n",
    "not_result1 = not a \n",
    "not_result2 = not b \n",
    "not_result3 = not c \n",
    "# Display results \n",
    "print(f\"AND result: {and_result}\") \n",
    "print(f\"OR result: {or_result}\") \n",
    "print(f\"NOT first boolean: {not_result1}\") \n",
    "print(f\"NOT second boolean: {not_result2}\") \n",
    "print(f\"NOT third boolean: {not_result3}\")\n"
   ]
  },
  {
   "cell_type": "code",
   "execution_count": 7,
   "id": "11b5461e-d34b-4dbf-8fe1-b11a5b7e99fb",
   "metadata": {},
   "outputs": [
    {
     "name": "stdin",
     "output_type": "stream",
     "text": [
      "Enter a txt: 5\n"
     ]
    },
    {
     "name": "stdout",
     "output_type": "stream",
     "text": [
      "1\n",
      "First charcter: 5\n",
      "Last charcter: 5\n",
      "Reverse: 5\n",
      "Uppercase and lowercase: 5 & 5\n"
     ]
    }
   ],
   "source": [
    "user = str(input(\"Enter a txt:\")) \n",
    "print(len(user))\n",
    "first_char = user[0]\n",
    "second_char = user[-1]\n",
    "print(\"First charcter:\",first_char)\n",
    "print(\"Last charcter:\",second_char)\n",
    "print(\"Reverse:\",user[::-1])\n",
    "upper_str = user.upper()\n",
    "lower_str = user.lower()\n",
    "print(\"Uppercase and lowercase:\",upper_str,\"&\",lower_str)"
   ]
  },
  {
   "cell_type": "code",
   "execution_count": 15,
   "id": "1fd557bf-fe5c-48fc-ae34-cbcb690429c7",
   "metadata": {},
   "outputs": [
    {
     "name": "stdin",
     "output_type": "stream",
     "text": [
      "Enter your name:  komali\n",
      "Enter your age:  20\n"
     ]
    },
    {
     "name": "stdout",
     "output_type": "stream",
     "text": [
      "Hello komali, you are 20 years old.\n"
     ]
    }
   ],
   "source": [
    "# String Formatting \n",
    "# Get user input for name and age \n",
    "name = input(\"Enter your name: \") \n",
    "age = input(\"Enter your age: \") \n",
    "# Display message \n",
    "print(f\"Hello {name}, you are {age} years old.\")"
   ]
  },
  {
   "cell_type": "code",
   "execution_count": 5,
   "id": "07f32431-f652-4f70-8fc0-f247697bc5e5",
   "metadata": {},
   "outputs": [
    {
     "name": "stdin",
     "output_type": "stream",
     "text": [
      "Enter a sentence:  i am a student of MCA\n",
      "Enter a word to search for:  am\n"
     ]
    },
    {
     "name": "stdout",
     "output_type": "stream",
     "text": [
      "The word 'am' exists in the sentence at index 2.\n"
     ]
    }
   ],
   "source": [
    "# Get input from the user\n",
    "sentence = input(\"Enter a sentence: \")\n",
    "word_to_search = input(\"Enter a word to search for: \")\n",
    "\n",
    "# Check if the word exists in the sentence\n",
    "if word_to_search in sentence:\n",
    "    # Find the index of the word\n",
    "    index = sentence.find(word_to_search)\n",
    "    print(f\"The word '{word_to_search}' exists in the sentence at index {index}.\")\n",
    "else:\n",
    "    print(f\"The word '{word_to_search}' does not exist in the sentence.\")\n"
   ]
  },
  {
   "cell_type": "code",
   "execution_count": 3,
   "id": "d60b30c6-0eb1-4797-9e4e-96003808a32f",
   "metadata": {},
   "outputs": [
    {
     "name": "stdin",
     "output_type": "stream",
     "text": [
      "Enter number 1:  12\n",
      "Enter number 2:  23\n",
      "Enter number 3:  34\n",
      "Enter number 4:  45\n",
      "Enter number 5:  56\n"
     ]
    },
    {
     "name": "stdout",
     "output_type": "stream",
     "text": [
      "List of numbers: [12.0, 23.0, 34.0, 45.0, 56.0]\n",
      "Sum of the numbers: 170.0\n",
      "Largest number: 56.0\n",
      "Smallest number: 12.0\n"
     ]
    }
   ],
   "source": [
    "# Create an empty list to store the numbers\n",
    "numbers = []\n",
    "\n",
    "# Get input from the user for 5 numbers\n",
    "for i in range(5):\n",
    "    number = float(input(f\"Enter number {i+1}: \"))\n",
    "    numbers.append(number)\n",
    "\n",
    "# Calculate the sum of the numbers\n",
    "sum_of_numbers = sum(numbers)\n",
    "\n",
    "# Find the largest and smallest numbers\n",
    "largest_number = max(numbers)\n",
    "smallest_number = min(numbers)\n",
    "\n",
    "# Print the results\n",
    "print(\"List of numbers:\", numbers)\n",
    "print(\"Sum of the numbers:\", sum_of_numbers)\n",
    "print(\"Largest number:\", largest_number)\n",
    "print(\"Smallest number:\", smallest_number)\n"
   ]
  },
  {
   "cell_type": "code",
   "execution_count": 17,
   "id": "5e664f35-55f3-4ab6-a2d2-9f8c50da807a",
   "metadata": {},
   "outputs": [
    {
     "name": "stdout",
     "output_type": "stream",
     "text": [
      "Updated fruit list: ['Apple', 'Cherry', 'Mango', 'Orange', 'Pineapple']\n"
     ]
    }
   ],
   "source": [
    "# List Manipulation \n",
    "# Create a list of favorite fruits \n",
    "fruits = [\"Apple\", \"Banana\", \"Cherry\", \"Mango\", \"Orange\"] \n",
    "# Add a new fruit \n",
    "fruits.append(\"Pineapple\") \n",
    "# Remove the second fruit \n",
    "fruits.pop(1) \n",
    "# Display the updated list \n",
    "print(f\"Updated fruit list: {fruits}\")\n"
   ]
  },
  {
   "cell_type": "code",
   "execution_count": 21,
   "id": "ea1adf38-c678-4c49-8555-edcf28512f98",
   "metadata": {},
   "outputs": [
    {
     "name": "stdin",
     "output_type": "stream",
     "text": [
      "Enter number 1:  12\n",
      "Enter number 2:  34\n",
      "Enter number 3:  56\n",
      "Enter number 4:  67\n",
      "Enter number 5:  78\n"
     ]
    },
    {
     "name": "stdout",
     "output_type": "stream",
     "text": [
      "List in ascending order: [12.0, 34.0, 56.0, 67.0, 78.0]\n",
      "List in descending order: [78.0, 67.0, 56.0, 34.0, 12.0]\n"
     ]
    }
   ],
   "source": [
    "# Get input from the user for a list of 5 numbers\n",
    "numbers = []\n",
    "for i in range(5):\n",
    "    number = float(input(f\"Enter number {i+1}: \"))\n",
    "    numbers.append(number)\n",
    "\n",
    "# Sort the list in ascending order\n",
    "numbers_ascending = sorted(numbers)\n",
    "print(\"List in ascending order:\", numbers_ascending)\n",
    "\n",
    "# Sort the list in descending order\n",
    "numbers_descending = sorted(numbers, reverse=True)\n",
    "print(\"List in descending order:\", numbers_descending)\n"
   ]
  },
  {
   "cell_type": "code",
   "execution_count": 23,
   "id": "699acc8b-91ea-4041-accc-b6d0bd72acb5",
   "metadata": {},
   "outputs": [
    {
     "name": "stdout",
     "output_type": "stream",
     "text": [
      "First 5 elements: [1, 2, 3, 4, 5]\n",
      "Last 5 elements: [6, 7, 8, 9, 10]\n",
      "Elements from index 2 to 7: [3, 4, 5, 6, 7, 8]\n"
     ]
    }
   ],
   "source": [
    "# List Slicing \n",
    "n = [1, 2, 3, 4, 5, 6, 7, 8, 9, 10] \n",
    "# Print the first 5 elements \n",
    "print(f\"First 5 elements: {n[:5]}\") \n",
    "# Print the last 5 elements \n",
    "print(f\"Last 5 elements: {n[-5:]}\") \n",
    "# Print elements from index 2 to index 7 \n",
    "print(f\"Elements from index 2 to 7: {n[2:8]}\")"
   ]
  },
  {
   "cell_type": "code",
   "execution_count": 25,
   "id": "0c71494b-764f-4f12-8c82-6958372fbf86",
   "metadata": {},
   "outputs": [
    {
     "name": "stdin",
     "output_type": "stream",
     "text": [
      "Enter the name of student 1:  Komali\n",
      "Enter score for subject 1 for Komali:  89\n",
      "Enter score for subject 2 for Komali:  90\n",
      "Enter score for subject 3 for Komali:  87\n",
      "Enter the name of student 2:  Uditha\n",
      "Enter score for subject 1 for Uditha:  76\n",
      "Enter score for subject 2 for Uditha:  89\n",
      "Enter score for subject 3 for Uditha:  88\n",
      "Enter the name of student 3:  Srikar\n",
      "Enter score for subject 1 for Srikar:  88\n",
      "Enter score for subject 2 for Srikar:  77\n",
      "Enter score for subject 3 for Srikar:  80\n"
     ]
    },
    {
     "name": "stdout",
     "output_type": "stream",
     "text": [
      "Komali's average score: 88.67\n",
      "Uditha's average score: 84.33\n",
      "Srikar's average score: 81.67\n"
     ]
    }
   ],
   "source": [
    "# Create an empty list to store student data\n",
    "student_data = []\n",
    "\n",
    "# Get input for 3 students\n",
    "for i in range(3):\n",
    "    name = input(f\"Enter the name of student {i+1}: \")\n",
    "    scores = []\n",
    "    for j in range(3):\n",
    "        score = float(input(f\"Enter score for subject {j+1} for {name}: \"))\n",
    "        scores.append(score)\n",
    "    student_data.append([name, scores])\n",
    "\n",
    "# Calculate and print average score for each student\n",
    "for student in student_data:\n",
    "    name = student[0]\n",
    "    scores = student[1]\n",
    "    average_score = sum(scores) / len(scores)\n",
    "    print(f\"{name}'s average score: {average_score:.2f}\")"
   ]
  },
  {
   "cell_type": "code",
   "execution_count": null,
   "id": "659401a3-c752-47cf-beab-280fed54d657",
   "metadata": {},
   "outputs": [],
   "source": []
  }
 ],
 "metadata": {
  "kernelspec": {
   "display_name": "Python 3 (ipykernel)",
   "language": "python",
   "name": "python3"
  },
  "language_info": {
   "codemirror_mode": {
    "name": "ipython",
    "version": 3
   },
   "file_extension": ".py",
   "mimetype": "text/x-python",
   "name": "python",
   "nbconvert_exporter": "python",
   "pygments_lexer": "ipython3",
   "version": "3.12.4"
  }
 },
 "nbformat": 4,
 "nbformat_minor": 5
}
